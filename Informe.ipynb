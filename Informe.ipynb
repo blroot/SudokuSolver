{
 "cells": [
  {
   "cell_type": "markdown",
   "metadata": {},
   "source": [
    "# Estructuras de Datos - Universidad Nacional de Tres de Febrero \n",
    "# Trabajo Práctico Nº 1 - Sudoku solver (backtracking)\n",
    "\n",
    "### Lottero Bruno - Leg. 18434"
   ]
  },
  {
   "cell_type": "markdown",
   "metadata": {},
   "source": [
    "### A continuación se describen las clases y decisiones de diseño más importantes"
   ]
  },
  {
   "cell_type": "markdown",
   "metadata": {},
   "source": [
    "## Board.py\n",
    "#### Es la clase que representa a un tablero, se inicializa a partir de una lista de dos dimensiones con enteros\n",
    "#### Contiene métodos para:\n",
    "- Consultar si el tablero está lleno\n",
    "- Insertar y borrar un entero en una posición\n",
    "- Encontrar la próxima posición vacía\n",
    "- Consultar si es posible insertar un valor en determinada posición\n",
    "- Imprimir el tablero"
   ]
  },
  {
   "cell_type": "markdown",
   "metadata": {},
   "source": [
    "#### Por ejemplo, creamos un tablero vacío a partir de una lista 2D"
   ]
  },
  {
   "cell_type": "code",
   "execution_count": 10,
   "metadata": {},
   "outputs": [],
   "source": [
    "from Board import Board\n",
    "\n",
    "board = Board([[0, 8, 0, 5, 7, 6, 2, 0, 0],\n",
    "               [0, 0, 0, 4, 0, 2, 0, 0, 0],\n",
    "               [0, 0, 0, 0, 3, 9, 5, 4, 8],\n",
    "               [6, 3, 0, 9, 0, 0, 8, 5, 2],\n",
    "               [0, 9, 0, 2, 0, 0, 3, 7, 0],\n",
    "               [8, 0, 0, 0, 5, 0, 6, 9, 4],\n",
    "               [2, 5, 7, 6, 0, 3, 4, 8, 9],\n",
    "               [3, 0, 8, 7, 0, 0, 0, 2, 5],\n",
    "               [0, 4, 0, 0, 0, 0, 0, 0, 6]])"
   ]
  },
  {
   "cell_type": "markdown",
   "metadata": {},
   "source": [
    "#### Consultamos si podemos agregar 8 en (primera fila, primera columna), lo mismo para 1"
   ]
  },
  {
   "cell_type": "code",
   "execution_count": 11,
   "metadata": {},
   "outputs": [
    {
     "name": "stdout",
     "output_type": "stream",
     "text": [
      "False\n",
      "True\n"
     ]
    }
   ],
   "source": [
    "print(board.is_plausible(0, 0, 8))\n",
    "print(board.is_plausible(0, 0, 1))"
   ]
  },
  {
   "cell_type": "markdown",
   "metadata": {},
   "source": [
    "#### Agregamos 1 en (0, 0) e imprimimos el tablero"
   ]
  },
  {
   "cell_type": "code",
   "execution_count": 12,
   "metadata": {},
   "outputs": [
    {
     "name": "stdout",
     "output_type": "stream",
     "text": [
      "1|8|0|5|7|6|2|0|0|\n",
      "0|0|0|4|0|2|0|0|0|\n",
      "0|0|0|0|3|9|5|4|8|\n",
      "6|3|0|9|0|0|8|5|2|\n",
      "0|9|0|2|0|0|3|7|0|\n",
      "8|0|0|0|5|0|6|9|4|\n",
      "2|5|7|6|0|3|4|8|9|\n",
      "3|0|8|7|0|0|0|2|5|\n",
      "0|4|0|0|0|0|0|0|6|\n",
      "\n"
     ]
    }
   ],
   "source": [
    "board.register(0, 0, 1)\n",
    "board.print()"
   ]
  },
  {
   "cell_type": "markdown",
   "metadata": {},
   "source": [
    "#### Borramos el valor de (0, 0)"
   ]
  },
  {
   "cell_type": "code",
   "execution_count": 14,
   "metadata": {},
   "outputs": [
    {
     "name": "stdout",
     "output_type": "stream",
     "text": [
      "0|8|0|5|7|6|2|0|0|\n",
      "0|0|0|4|0|2|0|0|0|\n",
      "0|0|0|0|3|9|5|4|8|\n",
      "6|3|0|9|0|0|8|5|2|\n",
      "0|9|0|2|0|0|3|7|0|\n",
      "8|0|0|0|5|0|6|9|4|\n",
      "2|5|7|6|0|3|4|8|9|\n",
      "3|0|8|7|0|0|0|2|5|\n",
      "0|4|0|0|0|0|0|0|6|\n",
      "\n"
     ]
    }
   ],
   "source": [
    "board.delete(0, 0)\n",
    "board.print()"
   ]
  },
  {
   "cell_type": "markdown",
   "metadata": {},
   "source": [
    "## Solver.py\n",
    "#### Es la clase que implementa el algoritmo de backtracking, se inicializa con:\n",
    "- Una instancia de Board\n",
    "- Un límite de soluciones a encontrar (por defecto=1)\n",
    "- Una función callback que se ejecuta cuando se encuentra una solución (por defecto=None, no se ejecuta nada)\n",
    "  - Dicha función debe tomar como argumento un tablero\n",
    "\n",
    "#### Se decidió que la función tome una función callback para desligar el solver de la interfaz por consola\n",
    "#### Contiene un método para buscar las soluciones"
   ]
  },
  {
   "cell_type": "code",
   "execution_count": 20,
   "metadata": {},
   "outputs": [
    {
     "name": "stdout",
     "output_type": "stream",
     "text": [
      "Se encontró solución: \n",
      "9|8|4|5|7|6|2|1|3|\n",
      "5|1|3|4|8|2|9|6|7|\n",
      "7|2|6|1|3|9|5|4|8|\n",
      "6|3|1|9|4|7|8|5|2|\n",
      "4|9|5|2|6|8|3|7|1|\n",
      "8|7|2|3|5|1|6|9|4|\n",
      "2|5|7|6|1|3|4|8|9|\n",
      "3|6|8|7|9|4|1|2|5|\n",
      "1|4|9|8|2|5|7|3|6|\n",
      "\n"
     ]
    }
   ],
   "source": [
    "from Solver import Solver\n",
    "\n",
    "def callback_print(a_board):\n",
    "    print(\"Se encontró solución: \")\n",
    "    a_board.print()\n",
    "\n",
    "solver = Solver(board, callback=callback_print)\n",
    "solver.solve()"
   ]
  },
  {
   "cell_type": "markdown",
   "metadata": {},
   "source": [
    "## FileHandler.py\n",
    "#### Es la clase que maneja archivos CSV y de persistencia (pickle), se inicializa con:\n",
    "- Una ruta de archivo orígen\n",
    "- Una ruta de archivo destino\n",
    "#### Almacena:\n",
    "- De forma privada un diccionario cuya clave corresponde al número de tablero y valor a una lista de listas 2D (para inicializar tableros)\n",
    "#### Contiene métodos para:\n",
    "- Leer un archivo CSV\n",
    "- Escribir resultados a un archivo CSV\n",
    "- Persistir resultados calculados a un dump de pickle\n",
    "- Cargar un dump de pickle\n",
    "- Retornar una copia de diccionario de tableros"
   ]
  },
  {
   "cell_type": "markdown",
   "metadata": {},
   "source": [
    "#### Un ejemplo para leer los datos desde un archivo CSV, construír los tableros, calcular los resultados, imprimir los resultados y guardarlos en otro archivo CSV "
   ]
  },
  {
   "cell_type": "code",
   "execution_count": 22,
   "metadata": {},
   "outputs": [
    {
     "name": "stdout",
     "output_type": "stream",
     "text": [
      "Se encontró solución: \n",
      "3|1|6|5|7|8|4|9|2|\n",
      "5|2|9|1|3|4|7|6|8|\n",
      "4|8|7|6|2|9|5|3|1|\n",
      "2|6|3|4|1|5|9|8|7|\n",
      "9|7|4|8|6|3|1|2|5|\n",
      "8|5|1|7|9|2|6|4|3|\n",
      "1|3|8|9|4|7|2|5|6|\n",
      "6|9|2|3|5|1|8|7|4|\n",
      "7|4|5|2|8|6|3|1|9|\n",
      "\n",
      "Se encontró solución: \n",
      "9|8|4|5|7|6|2|1|3|\n",
      "5|1|3|4|8|2|9|6|7|\n",
      "7|2|6|1|3|9|5|4|8|\n",
      "6|3|1|9|4|7|8|5|2|\n",
      "4|9|5|2|6|8|3|7|1|\n",
      "8|7|2|3|5|1|6|9|4|\n",
      "2|5|7|6|1|3|4|8|9|\n",
      "3|6|8|7|9|4|1|2|5|\n",
      "1|4|9|8|2|5|7|3|6|\n",
      "\n",
      "Se encontró solución: \n",
      "5|6|3|7|8|1|4|9|2|\n",
      "8|9|2|3|5|4|6|1|7|\n",
      "4|7|1|6|2|9|5|8|3|\n",
      "9|4|7|2|6|3|1|5|8|\n",
      "2|5|6|1|4|8|3|7|9|\n",
      "3|1|8|5|9|7|2|6|4|\n",
      "6|8|9|4|1|2|7|3|5|\n",
      "7|2|5|9|3|6|8|4|1|\n",
      "1|3|4|8|7|5|9|2|6|\n",
      "\n",
      "Se encontró solución: \n",
      "1|7|3|4|8|6|5|9|2|\n",
      "4|2|5|9|1|7|6|8|3|\n",
      "9|6|8|3|2|5|4|1|7|\n",
      "6|8|4|1|7|2|3|5|9|\n",
      "5|9|7|6|3|4|8|2|1|\n",
      "3|1|2|5|9|8|7|6|4|\n",
      "2|4|9|8|5|3|1|7|6|\n",
      "7|5|6|2|4|1|9|3|8|\n",
      "8|3|1|7|6|9|2|4|5|\n",
      "\n"
     ]
    }
   ],
   "source": [
    "from FileHandler import FileHandler\n",
    "\n",
    "file_handler = FileHandler(\"tableros.csv\", \"resultados_jupyter.csv\")\n",
    "results = {}\n",
    "file_handler.read_boards_file_csv()\n",
    "\n",
    "for key in range(file_handler.boards_count):\n",
    "    board = Board(file_handler.get_board(key))\n",
    "    solver = Solver(board, target_solutions=1, callback=callback_print)\n",
    "    solver.solve()\n",
    "    results.setdefault(key, solver.solutions)\n",
    "\n",
    "file_handler.write_results_to_file(results)"
   ]
  },
  {
   "cell_type": "markdown",
   "metadata": {},
   "source": [
    "## ConsoleApp.py\n",
    "#### Es la clase que pertenece a la app por consola, se encarga de imprimir menu, implementa las funcionalidades de cálculo de tableros a través de las clases ya mencionadas, también imprime soluciones\n",
    "\n",
    "## sudoku_solver.py\n",
    "#### Es el script que contiene el punto de entrada (main) para la app de consola"
   ]
  },
  {
   "cell_type": "markdown",
   "metadata": {},
   "source": [
    "## Medición de tiempos\n",
    "### Este modo de funcionamiento permite resolver tableros vacíos de distintos tamaños:\n",
    "### 9x9, 16x16, 25x25 y 49x49 de forma consecutiva, midiendo el tiempo promedio que le toma resolver un tablero para cada tamaño. La metodología para medir dicho tiempo es encontrar las primeras 10 resoluciones y hacer un promedio\n",
    "\n",
    "### Se lograron obtener los siguientes resultados:\n",
    "\n",
    "Tablero 9x9, 10 Soluciones, 0.0027709007263183594 Segundos/solución\n",
    "\n",
    "Tablero 16x16, 10 Soluciones, 0.0037014245986938476 Segundos/solución\n",
    "\n",
    "### Para $N \\geq 25$ el cálculo demora muchísimo, por lo que no se logró obtener resultados"
   ]
  },
  {
   "cell_type": "markdown",
   "metadata": {},
   "source": [
    "## Complejidad\n",
    "\n",
    "Partiendo desde un tablero con un solo casillero vacío, tenemos $N$ posibilidades, luego si tuviesemos dos casilleros vacíos, tendríamos $N$ posibilidades por cada $n$ del otro, es decir $O(N^2)$. Si tuvieramos tres casilleros vacíos, por cada $N$ del primer casillero vacío, tendríamos $N^2$ posibilidades.\n",
    "Se concluye que la complejidad del algoritmo es $O(N^{N^2}) = O(N^N)$\n",
    "\n",
    "A través de este análisis se concluye que tiene sentido la grán demora que se produce al intentar calcular las soluciones para un tablero $N \\geq 25$"
   ]
  },
  {
   "cell_type": "code",
   "execution_count": null,
   "metadata": {},
   "outputs": [],
   "source": []
  }
 ],
 "metadata": {
  "kernelspec": {
   "display_name": "Python 3",
   "language": "python",
   "name": "python3"
  },
  "language_info": {
   "codemirror_mode": {
    "name": "ipython",
    "version": 3
   },
   "file_extension": ".py",
   "mimetype": "text/x-python",
   "name": "python",
   "nbconvert_exporter": "python",
   "pygments_lexer": "ipython3",
   "version": "3.7.3"
  }
 },
 "nbformat": 4,
 "nbformat_minor": 2
}
